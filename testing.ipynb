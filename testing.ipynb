{
 "cells": [
  {
   "cell_type": "code",
   "execution_count": 7,
   "id": "a284a971-b620-4a87-96ce-0fb8cb23bf10",
   "metadata": {},
   "outputs": [],
   "source": [
    "import cashier as c"
   ]
  },
  {
   "cell_type": "code",
   "execution_count": 8,
   "id": "c1b943e5-ac38-43de-a4d6-9e86e0aeac48",
   "metadata": {},
   "outputs": [],
   "source": [
    "transaction = c.Transaction()"
   ]
  },
  {
   "cell_type": "code",
   "execution_count": 9,
   "id": "8efc173f-a808-4fdc-869d-f50bfc67888a",
   "metadata": {},
   "outputs": [],
   "source": [
    "#Test Case 1 : Adding Items"
   ]
  },
  {
   "cell_type": "code",
   "execution_count": 28,
   "id": "290f7c9f-d4d6-4239-b118-be1184425d83",
   "metadata": {},
   "outputs": [
    {
     "name": "stdout",
     "output_type": "stream",
     "text": [
      "Thank you. Your shopping cart is as follows: Selimut = 1 pc with total price of Rp 100000.\n",
      "Thank you. Your shopping cart is as follows: Kaca = 2 pc with total price of Rp 500000.\n"
     ]
    }
   ],
   "source": [
    "transaction.add_item(\"Selimut\", 1, 100_000)\n",
    "transaction.add_item(\"Kaca\", 2, 250_000)"
   ]
  },
  {
   "cell_type": "code",
   "execution_count": 11,
   "id": "17f4d1da-8760-4677-8000-4ad697243639",
   "metadata": {},
   "outputs": [],
   "source": [
    "#Test Case 2 : Delete Item"
   ]
  },
  {
   "cell_type": "code",
   "execution_count": 16,
   "id": "a374b985-c11b-427f-b67d-1f2d01867a1d",
   "metadata": {},
   "outputs": [
    {
     "name": "stdout",
     "output_type": "stream",
     "text": [
      "You have successfully deleted Sepatu from your cart\n"
     ]
    }
   ],
   "source": [
    "transaction.delete_item(\"Sepatu\")"
   ]
  },
  {
   "cell_type": "code",
   "execution_count": 13,
   "id": "72139594-daab-43f3-bffe-0b5f7770bd51",
   "metadata": {},
   "outputs": [],
   "source": [
    "#Test Case 3 : Reset Transaction"
   ]
  },
  {
   "cell_type": "code",
   "execution_count": 14,
   "id": "330b4b10-e488-4c34-9820-79a9a068b033",
   "metadata": {},
   "outputs": [
    {
     "name": "stdout",
     "output_type": "stream",
     "text": [
      "You have successfully removed all your items in shopping cart\n"
     ]
    }
   ],
   "source": [
    "transaction.reset_transaction()"
   ]
  },
  {
   "cell_type": "code",
   "execution_count": 15,
   "id": "a1aecce4-dfa3-4674-843e-4f99bd12c174",
   "metadata": {},
   "outputs": [
    {
     "name": "stdout",
     "output_type": "stream",
     "text": [
      "Thank you. Your shopping cart is as follows: Sepatu = 1 pc with total price of Rp 100000.\n",
      "Thank you. Your shopping cart is as follows: Kaca Mata = 2 pc with total price of Rp 500000.\n",
      "Thank you. Your shopping cart is as follows: Buku = 3 pc with total price of Rp 150000.\n",
      "Thank you. Your shopping cart is as follows: Selimut = 1 pc with total price of Rp 300000.\n"
     ]
    }
   ],
   "source": [
    "transaction.add_item(\"Sepatu\", 1, 100_000)\n",
    "transaction.add_item(\"Kaca Mata\", 2, 250_000)\n",
    "transaction.add_item(\"Buku\", 3, 50_000)\n",
    "transaction.add_item(\"Selimut\", 1, 300_000)"
   ]
  },
  {
   "cell_type": "code",
   "execution_count": 17,
   "id": "33768f68-b625-4caf-9203-d590297779fc",
   "metadata": {},
   "outputs": [],
   "source": [
    "#Test Case 4 : Total Price (error)"
   ]
  },
  {
   "cell_type": "code",
   "execution_count": 30,
   "id": "0c89218c-3376-4fba-a8a1-232f2942fc8b",
   "metadata": {},
   "outputs": [
    {
     "ename": "AttributeError",
     "evalue": "'Transaction' object has no attribute 'calculate_total_price'",
     "output_type": "error",
     "traceback": [
      "\u001b[0;31m---------------------------------------------------------------------------\u001b[0m",
      "\u001b[0;31mAttributeError\u001b[0m                            Traceback (most recent call last)",
      "\u001b[0;32m/var/folders/4t/9mvbw1tx5gg52_k07y47f9gw0000gp/T/ipykernel_14616/701743629.py\u001b[0m in \u001b[0;36m<module>\u001b[0;34m\u001b[0m\n\u001b[0;32m----> 1\u001b[0;31m \u001b[0mtransaction\u001b[0m\u001b[0;34m.\u001b[0m\u001b[0mtotal_price\u001b[0m\u001b[0;34m(\u001b[0m\u001b[0;34m)\u001b[0m\u001b[0;34m\u001b[0m\u001b[0;34m\u001b[0m\u001b[0m\n\u001b[0m",
      "\u001b[0;32m~/cashier.py\u001b[0m in \u001b[0;36mtotal_price\u001b[0;34m(self)\u001b[0m\n\u001b[1;32m    113\u001b[0m     \u001b[0;31m#Function to print total price in shopping cart\u001b[0m\u001b[0;34m\u001b[0m\u001b[0;34m\u001b[0m\u001b[0m\n\u001b[1;32m    114\u001b[0m     \u001b[0;32mdef\u001b[0m \u001b[0mtotal_price\u001b[0m\u001b[0;34m(\u001b[0m\u001b[0mself\u001b[0m\u001b[0;34m)\u001b[0m\u001b[0;34m:\u001b[0m\u001b[0;34m\u001b[0m\u001b[0;34m\u001b[0m\u001b[0m\n\u001b[0;32m--> 115\u001b[0;31m         \u001b[0mself\u001b[0m\u001b[0;34m.\u001b[0m\u001b[0mcalculate_total_price\u001b[0m\u001b[0;34m(\u001b[0m\u001b[0;34m)\u001b[0m\u001b[0;34m\u001b[0m\u001b[0;34m\u001b[0m\u001b[0m\n\u001b[0m\u001b[1;32m    116\u001b[0m         \u001b[0mself\u001b[0m\u001b[0;34m.\u001b[0m\u001b[0mcheck_order\u001b[0m\u001b[0;34m(\u001b[0m\u001b[0;34m)\u001b[0m\u001b[0;34m\u001b[0m\u001b[0;34m\u001b[0m\u001b[0m\n\u001b[1;32m    117\u001b[0m         \u001b[0mprint\u001b[0m\u001b[0;34m(\u001b[0m\u001b[0;34m\"\"\u001b[0m\u001b[0;34m)\u001b[0m\u001b[0;34m\u001b[0m\u001b[0;34m\u001b[0m\u001b[0m\n",
      "\u001b[0;31mAttributeError\u001b[0m: 'Transaction' object has no attribute 'calculate_total_price'"
     ]
    }
   ],
   "source": [
    "transaction.total_price()"
   ]
  },
  {
   "cell_type": "code",
   "execution_count": null,
   "id": "46b983b5-845c-441a-bdcc-5527ca935453",
   "metadata": {},
   "outputs": [],
   "source": []
  }
 ],
 "metadata": {
  "kernelspec": {
   "display_name": "Python 3 (ipykernel)",
   "language": "python",
   "name": "python3"
  },
  "language_info": {
   "codemirror_mode": {
    "name": "ipython",
    "version": 3
   },
   "file_extension": ".py",
   "mimetype": "text/x-python",
   "name": "python",
   "nbconvert_exporter": "python",
   "pygments_lexer": "ipython3",
   "version": "3.9.13"
  }
 },
 "nbformat": 4,
 "nbformat_minor": 5
}
